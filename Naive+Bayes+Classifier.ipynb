{
 "cells": [
  {
   "cell_type": "markdown",
   "metadata": {},
   "source": [
    "# Naive Bayes Classifier"
   ]
  },
  {
   "cell_type": "code",
   "execution_count": 58,
   "metadata": {
    "collapsed": true
   },
   "outputs": [],
   "source": [
    "import csv\n",
    "import random\n",
    "import math\n",
    "import numpy as np"
   ]
  },
  {
   "cell_type": "code",
   "execution_count": 59,
   "metadata": {
    "collapsed": true
   },
   "outputs": [],
   "source": [
    "def loadCsv(filename):\n",
    "    # Numpy function to generate array from txt or csv\n",
    "    return  np.genfromtxt(filename, delimiter = '\\t')"
   ]
  },
  {
   "cell_type": "code",
   "execution_count": 60,
   "metadata": {
    "collapsed": true
   },
   "outputs": [],
   "source": [
    "def splitDataset(dataset, splitRatio):\n",
    "    # Training set size\n",
    "    trainSize = int(dataset.shape[0] * splitRatio)\n",
    "    \n",
    "    # List of randomly chosen indicies\n",
    "    indices = np.random.permutation(dataset.shape[0])\n",
    "    \n",
    "    # Split indicies for training and test set by trainSize\n",
    "    training_idx, test_idx = indices[:trainSize], indices[trainSize:]\n",
    "    \n",
    "    # Create training and test sets by indicies\n",
    "    training, test = dataset[training_idx,:], dataset[test_idx,:]\n",
    "    \n",
    "    return training, test"
   ]
  },
  {
   "cell_type": "code",
   "execution_count": 61,
   "metadata": {},
   "outputs": [],
   "source": [
    "def separateByClass(dataset):\n",
    "    # Here we limit our classes to 0 and 1\n",
    "    # You need to generalize this for arbitrary number of classes\n",
    "    print(\"---------\")\n",
    "    classes = set(dataset[:, -1])\n",
    "    dict = {}\n",
    "    for classValue in classes:\n",
    "        dict[classValue] = dataset[np.where(dataset[:, -1]==classValue), :]\n",
    "    return dict"
   ]
  },
  {
   "cell_type": "code",
   "execution_count": 62,
   "metadata": {},
   "outputs": [
    {
     "name": "stdout",
     "output_type": "stream",
     "text": [
      "[[  74.   85.  123.    1.]\n",
      " [  73.   84.  122.    1.]\n",
      " [  72.   83.  121.    1.]\n",
      " ..., \n",
      " [ 163.  162.  112.    2.]\n",
      " [ 163.  162.  112.    2.]\n",
      " [ 255.  255.  255.    2.]]\n",
      "[[  74.   85.  123.    1.]\n",
      " [  73.   84.  122.    1.]\n",
      " [  72.   83.  121.    1.]\n",
      " ..., \n",
      " [ 163.  162.  112.    2.]\n",
      " [ 163.  162.  112.    2.]\n",
      " [ 255.  255.  255.    2.]]\n",
      "[[ 113.86987554  146.60111288  203.9919385     1.        ]]\n",
      "---------\n"
     ]
    },
    {
     "data": {
      "text/plain": [
       "{1.0: array([[[  74.,   85.,  123.,    1.],\n",
       "         [  73.,   84.,  122.,    1.],\n",
       "         [  72.,   83.,  121.,    1.],\n",
       "         ..., \n",
       "         [  95.,  132.,  182.,    1.],\n",
       "         [  92.,  132.,  181.,    1.],\n",
       "         [  94.,  131.,  181.,    1.]]]),\n",
       " 2.0: array([[[ 198.,  198.,  158.,    2.],\n",
       "         [ 198.,  198.,  158.,    2.],\n",
       "         [ 198.,  198.,  158.,    2.],\n",
       "         ..., \n",
       "         [ 163.,  162.,  112.,    2.],\n",
       "         [ 163.,  162.,  112.,    2.],\n",
       "         [ 255.,  255.,  255.,    2.]]])}"
      ]
     },
     "execution_count": 62,
     "metadata": {},
     "output_type": "execute_result"
    }
   ],
   "source": [
    "points = loadCsv('Skin_NonSkin.txt')\n",
    "print(points)\n",
    "\n",
    "dataset= points[np.where(points[:, -1] == 1), :]\n",
    "dataset.shape\n",
    "print(points)\n",
    "print(dataset.mean(axis=1))\n",
    "separateByClass(points)"
   ]
  },
  {
   "cell_type": "code",
   "execution_count": 63,
   "metadata": {
    "collapsed": true
   },
   "outputs": [],
   "source": [
    "def summarize(dataset):\n",
    "    # Calculate means and standart deviations with one degree of freedom for each attribute\n",
    "    # We do it by column which is axis 1\n",
    "    # Also we remove last elements (guess why?)\n",
    "    means = dataset.mean(axis=1)[0][:-1]\n",
    "    stds = dataset.std(axis=1, ddof=1)[0][:-1]\n",
    "    \n",
    "    # Think what we do here?\n",
    "    return means, stds"
   ]
  },
  {
   "cell_type": "code",
   "execution_count": 64,
   "metadata": {
    "collapsed": true
   },
   "outputs": [],
   "source": [
    "def summarizeByClass(dataset):\n",
    "    # Divide dataset by class and summarize it\n",
    "    separated = separateByClass(dataset)\n",
    "    \n",
    "    summaries = {}\n",
    "    \n",
    "    for classValue, instances in separated.items():\n",
    "        summaries[classValue] = summarize(instances)\n",
    "    \n",
    "    return summaries"
   ]
  },
  {
   "cell_type": "code",
   "execution_count": 65,
   "metadata": {
    "collapsed": true
   },
   "outputs": [],
   "source": [
    "def calculateProbability(x, mean, stdev):\n",
    "    # Calculate probability by x, mean and std\n",
    "    # 1/(sqrt(2pi)*std)*exp(-(x-mean)^2/(2std^2))\n",
    "    return np.prod((np.exp(-(x-mean)**2/(2*stdev**2)))/(np.sqrt(2*np.pi)*stdev))"
   ]
  },
  {
   "cell_type": "code",
   "execution_count": 66,
   "metadata": {},
   "outputs": [],
   "source": [
    "def calculateClassProbabilities(summaries, inputVector):\n",
    "    # Calculate probabilities for input vector from test set\n",
    "    probabilities = {}\n",
    "    \n",
    "    for classValue, classSummaries in summaries.items():\n",
    "        \n",
    "        means = classSummaries[0]\n",
    "        stds  = classSummaries[1]\n",
    "        \n",
    "        # Calculate corresonding probabilities and multiply them\n",
    "        probabilities[classValue] = calculateProbability(inputVector[:-1], means, stds)\n",
    "        \n",
    "    return probabilities"
   ]
  },
  {
   "cell_type": "code",
   "execution_count": 67,
   "metadata": {
    "collapsed": true
   },
   "outputs": [],
   "source": [
    "def predict(summaries, inputVector):\n",
    "    # Calculate probabilities\n",
    "    probabilities = calculateClassProbabilities(summaries, inputVector)\n",
    "    \n",
    "    # Init values of probability and label\n",
    "    bestLabel, bestProb = None, -1\n",
    "    \n",
    "    # Check probability of which class is better\n",
    "    for classValue, probability in probabilities.items():\n",
    "        if bestLabel is None or probability > bestProb:\n",
    "            bestProb = probability\n",
    "            bestLabel = classValue\n",
    "    \n",
    "    return bestLabel"
   ]
  },
  {
   "cell_type": "code",
   "execution_count": 68,
   "metadata": {
    "collapsed": true
   },
   "outputs": [],
   "source": [
    "def getPredictions(summaries, testSet):\n",
    "    # For each probability find optimal labels\n",
    "    predictions = []\n",
    "    \n",
    "    for i in range(len(testSet)):\n",
    "        result = predict(summaries, testSet[i])\n",
    "        predictions.append(result)\n",
    "\n",
    "    return predictions"
   ]
  },
  {
   "cell_type": "code",
   "execution_count": 69,
   "metadata": {
    "collapsed": true
   },
   "outputs": [],
   "source": [
    "def getAccuracy(testSet, predictions):\n",
    "    # Check accuracy\n",
    "    correct = 0\n",
    "    \n",
    "    for i in range(len(testSet)):\n",
    "        if testSet[i][-1] == predictions[i]:\n",
    "            correct += 1\n",
    "    return (correct/float(len(testSet))) * 100.0"
   ]
  },
  {
   "cell_type": "code",
   "execution_count": 73,
   "metadata": {
    "collapsed": true
   },
   "outputs": [],
   "source": [
    "def normilize1(points):\n",
    "    return (points[:, 0] - points.mean(axis=1))/points.std(axis=1)"
   ]
  },
  {
   "cell_type": "code",
   "execution_count": 74,
   "metadata": {
    "collapsed": true
   },
   "outputs": [],
   "source": [
    "def normilize2(points):\n",
    "    return (points[:, 0] - points.min(axis=1))/(points.max(axis=1) - points.min(axis=1))"
   ]
  },
  {
   "cell_type": "code",
   "execution_count": 79,
   "metadata": {
    "collapsed": true
   },
   "outputs": [],
   "source": [
    "def main():\n",
    "    # Set initial data\n",
    "    filename = 'Skin_NonSkin.txt'\n",
    "    \n",
    "    # Set split ratio\n",
    "    splitRatio = 0.67\n",
    "    \n",
    "    # Load dataset and return numpy array\n",
    "    dataset = loadCsv(filename)\n",
    "    \n",
    "    #dataset = normilize2(dataset)\n",
    "\n",
    "    \n",
    "    # Split dataset\n",
    "    trainingSet, testSet = splitDataset(dataset, splitRatio)\n",
    "    \n",
    "    # Log row amounts\n",
    "    print('Split {0} rows into train={1} and test={2} rows'.format(len(dataset), len(trainingSet), len(testSet)))\n",
    "    \n",
    "    # Prepare model\n",
    "    summaries = summarizeByClass(trainingSet)\n",
    "    \n",
    "    # Test model\n",
    "    predictions = getPredictions(summaries, testSet)\n",
    "    \n",
    "    accuracy = getAccuracy(testSet, predictions)\n",
    "    \n",
    "    print('Accuracy: {0}%'.format(accuracy))"
   ]
  },
  {
   "cell_type": "code",
   "execution_count": 80,
   "metadata": {},
   "outputs": [
    {
     "name": "stdout",
     "output_type": "stream",
     "text": [
      "Split 245057 rows into train=164188 and test=80869 rows\n",
      "---------\n",
      "Accuracy: 92.59419555082911%\n"
     ]
    }
   ],
   "source": [
    "main()"
   ]
  },
  {
   "cell_type": "code",
   "execution_count": null,
   "metadata": {
    "collapsed": true
   },
   "outputs": [],
   "source": []
  },
  {
   "cell_type": "code",
   "execution_count": null,
   "metadata": {
    "collapsed": true
   },
   "outputs": [],
   "source": []
  }
 ],
 "metadata": {
  "kernelspec": {
   "display_name": "Python 3",
   "language": "python",
   "name": "python3"
  },
  "language_info": {
   "codemirror_mode": {
    "name": "ipython",
    "version": 3
   },
   "file_extension": ".py",
   "mimetype": "text/x-python",
   "name": "python",
   "nbconvert_exporter": "python",
   "pygments_lexer": "ipython3",
   "version": "3.6.3"
  }
 },
 "nbformat": 4,
 "nbformat_minor": 2
}
