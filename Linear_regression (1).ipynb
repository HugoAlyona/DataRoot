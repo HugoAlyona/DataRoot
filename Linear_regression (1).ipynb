{
 "cells": [
  {
   "cell_type": "markdown",
   "metadata": {
    "collapsed": true
   },
   "source": [
    "## Linear regression"
   ]
  },
  {
   "cell_type": "code",
   "execution_count": 6,
   "metadata": {
    "collapsed": true
   },
   "outputs": [],
   "source": [
    "import numpy as np\n",
    "\n",
    "%matplotlib inline\n",
    "from mpl_toolkits import mplot3d\n",
    "import numpy as np\n",
    "import matplotlib.pyplot as plt"
   ]
  },
  {
   "cell_type": "code",
   "execution_count": 7,
   "metadata": {},
   "outputs": [],
   "source": [
    "def linear_regression():\n",
    "    # Step # 1 - Extract data\n",
    "    pointsStart = np.genfromtxt('ml.csv', delimiter=',')\n",
    "    points = np.genfromtxt('ml.csv', delimiter=',')\n",
    "        \n",
    "    # Step # 2 - Define hyperparameters\n",
    "    \n",
    "    ## Learning rate\n",
    "    learning_rate_const = 0.01\n",
    "    \n",
    "    ## Coefficients y = a * x + b\n",
    "    init_1 = 0\n",
    "    init_2 = 0\n",
    "    \n",
    "    init_3 = 0\n",
    "    \n",
    "    \n",
    "    \n",
    "    \n",
    "    \n",
    "    ## number of iterations\n",
    "    num_iterations = 10000\n",
    "    \n",
    "    ## our expected error \n",
    "    expected_error = 0.0001\n",
    "    \n",
    "     ## normilize our data\n",
    "    #points = normalize4(points)\n",
    "    \n",
    "    # Step 3 - model training\n",
    "    \n",
    "    print(\n",
    "        'Start learning at a = {0}, b = {1}, c = {2}, error = {4}'.format(\n",
    "            init_1,\n",
    "            init_2,\n",
    "            init_3,\n",
    "            compute_error(init_1, init_2, init_3, points)\n",
    "        )\n",
    "    )\n",
    "    \n",
    "    \n",
    "    \n",
    "   \n",
    "    \n",
    "    a, b, c = gradient_descent(init_1, init_2, init_3,  points, learning_rate_const, num_iterations, expected_error)\n",
    "    \n",
    "    print(\n",
    "        'End learning at a = {0}, b = {1}, c = {2}, error = {4}'.format(\n",
    "            a,\n",
    "            b,\n",
    "            c,\n",
    "            compute_error(a, b, c,  points)\n",
    "        )\n",
    "    )\n",
    "    \n",
    "    return a, b, c\n",
    "\n",
    "\n",
    "def compute_error(a, b, c, points):\n",
    "    error = 0\n",
    "    N = len(points)\n",
    "    for i in range(N):\n",
    "        x1 = points[i, 1]\n",
    "        x2 = points[i, 2]\n",
    "        y = points[i, 0]\n",
    "\n",
    "        \n",
    "        error += (y- (a * x1 + b * x2 + c))**2\n",
    "    e = np.eye(points.shape[1])\n",
    "    error + (a,b,c)*e\n",
    "    return error/N \n",
    "   \n",
    "    \n",
    "def normalize(array):\n",
    "    for j in range(array.shape[1]):\n",
    "        array[:, j] = (array[:, j] - np.min(array[:, j])) /(np.max(array[:, j]) - np.min(array[:, j]))\n",
    "    return array\n",
    "    \n",
    "def normalize2(array):\n",
    "    for j in range(array.shape[1]):\n",
    "        array[:, j] = array[:, j]/np.max(array[:, j])\n",
    "    return array\n",
    "           \n",
    "def normalize3(array):\n",
    "    for j in range(array.shape[1]):\n",
    "        array[:, j] = array[:, j]/np.max(array[:, j])\n",
    "    for j in range(array.shape[1]):\n",
    "        array[:, j] = array[:, j]/np.max(array[:, j])\n",
    "    return array\n",
    "           \n",
    "           \n",
    "def normalize4(array):\n",
    "    for j in range(array.shape[1]-1):\n",
    "        array[:, j] = (array[:, j] - array[:, j].mean()) / array[:, j].std()\n",
    "    return array\n",
    "\n",
    "def gradient_descent(starting_a, starting_b,starting_c, points, learning_rate_const, num_iterations, expected_error):\n",
    "    '''\n",
    "        Performs gradient step num_iterations times\n",
    "        in order to find optimal a, b values\n",
    "    '''\n",
    "    a = starting_a\n",
    "    b = starting_b\n",
    "    c = starting_c\n",
    "    \n",
    "    for i in range(num_iterations):\n",
    "        learning_rate = learning_rate_const/float(i+1)\n",
    "        a,b,c = gradient_step(a, b, c, points, learning_rate)\n",
    "        if (expected_error >  compute_error(a, b, c, points)):\n",
    "            break\n",
    "    \n",
    "    return a, b, c\n",
    "    \n",
    "\n",
    "def gradient_step(current_a, current_b, current_c,  points, learning_rate):\n",
    "    '''\n",
    "        Updates a and b in antigradient direction\n",
    "        with given learning_rate\n",
    "    '''\n",
    "    a = current_a\n",
    "    b = current_b\n",
    "    c = current_c\n",
    "    \n",
    "    grad_a = 0\n",
    "    grad_b = 0\n",
    "    grad_c = 0\n",
    "    \n",
    "    \n",
    "    N = len(points)\n",
    "    \n",
    "    for i in range(N):\n",
    "        y = points[i, 0]\n",
    "        x1 = points[i, 1]\n",
    "        x2 = points[i, 2]\n",
    "        \n",
    "        grad_a += - (2/N) * (y - (a*x1 + b*x2 + c))*x1\n",
    "        grad_b += - (2/N) * (y - (a*x1 + b*x2 + c))*x2\n",
    "        grad_c += - (2/N) * (y - (a*x1 + b*x2 + c))\n",
    "    \n",
    "    a = current_a - learning_rate * grad_a\n",
    "    b = current_b - learning_rate * grad_b\n",
    "    c = current_c - learning_rate * grad_c\n",
    "    \n",
    "    return a,b,c"
   ]
  },
  {
   "cell_type": "code",
   "execution_count": 9,
   "metadata": {
    "scrolled": true
   },
   "outputs": [
    {
     "name": "stdout",
     "output_type": "stream",
     "text": [
      "\n"
     ]
    }
   ],
   "source": [
    "a, b, c = linear_regression()"
   ]
  },
  {
   "cell_type": "code",
   "execution_count": 2,
   "metadata": {},
   "outputs": [
    {
     "name": "stdout",
     "output_type": "stream",
     "text": [
      "hello\n",
      "[[  nan   nan   nan]\n",
      " [ 132.   52.  173.]\n",
      " [ 143.   59.  184.]\n",
      " [ 153.   67.  194.]\n",
      " [ 162.   73.  211.]\n",
      " [ 154.   64.  196.]\n",
      " [ 168.   74.  220.]\n",
      " [ 137.   54.  188.]\n",
      " [ 149.   61.  188.]\n",
      " [ 159.   65.  207.]\n",
      " [ 128.   46.  167.]\n",
      " [ 166.   72.  217.]]\n"
     ]
    }
   ],
   "source": [
    "print(\"hello\")\n",
    "points = np.genfromtxt('ml.csv', delimiter=',')\n",
    "print(points)"
   ]
  },
  {
   "cell_type": "code",
   "execution_count": null,
   "metadata": {},
   "outputs": [],
   "source": [
    "for j in range(points.shape[1]):\n",
    "    points[:, j] = (points[:, j] - np.min(points[:, j])) /(np.max(points[:, j]) - np.min(points[:, j]))\n",
    "print(points)"
   ]
  },
  {
   "cell_type": "markdown",
   "metadata": {},
   "source": [
    "## Plot Cost funstion"
   ]
  },
  {
   "cell_type": "code",
   "execution_count": null,
   "metadata": {
    "collapsed": true
   },
   "outputs": [],
   "source": [
    "def plot_decorator(f):\n",
    "    points = np.genfromtxt('ml.csv', delimiter=',')\n",
    "    \n",
    "    return lambda a, b: f(a, b, points)\n",
    "\n",
    "\n",
    "cost = plot_decorator(compute_error)"
   ]
  },
  {
   "cell_type": "code",
   "execution_count": null,
   "metadata": {},
   "outputs": [],
   "source": [
    "points = np.genfromtxt('ml.csv', delimiter=',')\n",
    "A = np.linspace(-10, 12, 40)\n",
    "B = np.linspace(-10, 12, 40)\n",
    "\n",
    "A, B = np.meshgrid(A, B)\n",
    "E = cost(A, B)\n",
    "print(E)"
   ]
  },
  {
   "cell_type": "code",
   "execution_count": null,
   "metadata": {},
   "outputs": [],
   "source": [
    "fig = plt.figure()\n",
    "ax = plt.axes(projection='3d')\n",
    "ax.contour3D(A, B, E, 1000)\n",
    "ax.set_xlabel('a')\n",
    "ax.set_ylabel('b')\n",
    "ax.set_zlabel('cost')"
   ]
  },
  {
   "cell_type": "markdown",
   "metadata": {},
   "source": [
    "## Plot data and learned function"
   ]
  },
  {
   "cell_type": "code",
   "execution_count": null,
   "metadata": {},
   "outputs": [],
   "source": [
    "points = np.genfromtxt('ml.csv', delimiter=',')\n",
    "X = points[:, 0]\n",
    "Y = points[:, 1]\n",
    "\n",
    "plt.xlim(0, 80)\n",
    "plt.ylim(0, 150)\n",
    "plt.scatter(X, Y)\n",
    "\n",
    "params = np.linspace(0, 150, 10)\n",
    "\n",
    "plt.plot(params, a * params + b)\n",
    "\n",
    "plt.show()\n"
   ]
  },
  {
   "cell_type": "code",
   "execution_count": null,
   "metadata": {
    "collapsed": true
   },
   "outputs": [],
   "source": []
  },
  {
   "cell_type": "code",
   "execution_count": null,
   "metadata": {
    "collapsed": true
   },
   "outputs": [],
   "source": []
  },
  {
   "cell_type": "code",
   "execution_count": null,
   "metadata": {
    "collapsed": true
   },
   "outputs": [],
   "source": []
  }
 ],
 "metadata": {
  "kernelspec": {
   "display_name": "Python 3",
   "language": "python",
   "name": "python3"
  },
  "language_info": {
   "codemirror_mode": {
    "name": "ipython",
    "version": 3
   },
   "file_extension": ".py",
   "mimetype": "text/x-python",
   "name": "python",
   "nbconvert_exporter": "python",
   "pygments_lexer": "ipython3",
   "version": "3.6.3"
  }
 },
 "nbformat": 4,
 "nbformat_minor": 2
}
