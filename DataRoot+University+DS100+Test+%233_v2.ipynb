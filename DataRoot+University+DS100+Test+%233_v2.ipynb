{
 "cells": [
  {
   "cell_type": "markdown",
   "metadata": {},
   "source": [
    "# DataRoot University DS100 Test #3\n",
    "На проходження тесту виділяється 124 хвилини."
   ]
  },
  {
   "cell_type": "markdown",
   "metadata": {},
   "source": [
    "## SQL"
   ]
  },
  {
   "cell_type": "markdown",
   "metadata": {},
   "source": [
    "##### Відповідь до кожного завдання у цьому розділі записувати в наступну пусту строку в форматі sql запиту"
   ]
  },
  {
   "cell_type": "markdown",
   "metadata": {},
   "source": [
    "### Коротка інформація про базу даних \"Кораблі\":\n",
    "\n",
    "Розглядається БД кораблів, які брали участь у Другій світовій війні. Є такі відносини:\n",
    "\n",
    "- Classes (class, type, country, numGuns, bore, displacement)\n",
    "- Ships (name, class, launched)\n",
    "- Battles (name, date)\n",
    "- Outcomes (ship, battle, result)\n",
    "\n",
    "```\n",
    "Кораблі в «класах» побудовані за одним і тим же проектом, і класу привласнюється або ім'я першого корабля, побудованого за даним проектом, або назві класу дається ім'я проекту, яке не збігається ні з одним з кораблів в БД. Корабель, що дав назву класу, називається головним.\n",
    "\n",
    "Classes містить ім'я класу, тип (bb для бойового (лінійного) корабля або bc для бойового крейсера), країну, в якій побудований корабель, число головних знарядь, калібр знарядь (діаметр ствола знаряддя в дюймах) і водотоннажність (вага в тонах).\n",
    "\n",
    "У Ships записані назва корабля, ім'я його класу і рік спуску на воду.\n",
    "\n",
    "У Battles включені назва і дата битви, в якій брали участь кораблі.\n",
    "\n",
    "Outcomes - результат участі даного корабля в битві (потоплений-sunk, пошкоджений - damaged або неушкоджений - OK).\n",
    "\n",
    "Зауваження.\n",
    "1) В Outcomes можуть входити кораблі, які відсутні в Ships.\n",
    "2) Потоплений корабель в наступних битвах участі не бере.\n",
    "```\n",
    "\n",
    "**Дамп**: **[ships_pg_script.sql](https://github.com/dataroot/DRU-DS100-w3/tree/master/tests/3/v2/ships_pg_script.sql)**."
   ]
  },
  {
   "cell_type": "markdown",
   "metadata": {
    "collapsed": true
   },
   "source": [
    "### 1. Для класів кораблів, калібр знарядь яких не менше 16 дюймів, вкажіть клас і країну.\n",
    "```\n",
    "```\n",
    "Довідка по темі:\n",
    "* [Простий оператор SELECT](http://www.sql-tutorial.ru/ru/book_simple_select_statement/page1.html)\n",
    "```\n",
    "```\n",
    "```\n",
    "```\n",
    "```\n",
    "```\n",
    "```\n",
    "Максимальна оцінка: 1 бал\n",
    "Рекомендований час: 3хв\n",
    "```"
   ]
  },
  {
   "cell_type": "code",
   "execution_count": null,
   "metadata": {
    "collapsed": true
   },
   "outputs": [],
   "source": [
    "select class, country\n",
    "    from classes\n",
    "    where bore >= 16;\n"
   ]
  },
  {
   "cell_type": "markdown",
   "metadata": {},
   "source": [
    "### 2. Визначте середнє число знарядь для класів лінійних кораблів. Отримати результат з точністю до 2-х десяткових знаків.\n",
    "```\n",
    "```\n",
    "Довідка по темі:\n",
    "* [Отримання підсумкових значень](http://www.sql-tutorial.ru/ru/book_getting_summarizing_values.html)\n",
    "* [Перетворення типів](http://www.sql-tutorial.ru/ru/book_type_conversion_and_cast_function/page1.html)\n",
    "```\n",
    "```\n",
    "```\n",
    "```\n",
    "```\n",
    "```\n",
    "```\n",
    "Максимальна оцінка: 2 бали\n",
    "Рекомендований час: 6хв\n",
    "```"
   ]
  },
  {
   "cell_type": "code",
   "execution_count": null,
   "metadata": {
    "collapsed": true
   },
   "outputs": [],
   "source": [
    "SELECT CAST(AVG(numguns) AS CHAR(4))\n",
    "FROM Classes\n",
    "where type = 'bb';"
   ]
  },
  {
   "cell_type": "markdown",
   "metadata": {},
   "source": [
    "### 3. Вкажіть кораблі, потоплені в боях в Північній Атлантиці (North Atlantic). Вивід: ship.\n",
    "```\n",
    "```\n",
    "Довідка по темі:\n",
    "* [Простий оператор SELECT](http://www.sql-tutorial.ru/ru/book_simple_select_statement/page1.html)\n",
    "* [Предикати (ч.1)](http://www.sql-tutorial.ru/ru/book_predicates_1.html)\n",
    "```\n",
    "```\n",
    "```\n",
    "```\n",
    "```\n",
    "```\n",
    "```\n",
    "Максимальна оцінка: 1 бал\n",
    "Рекомендований час: 3хв\n",
    "```"
   ]
  },
  {
   "cell_type": "code",
   "execution_count": null,
   "metadata": {
    "collapsed": true
   },
   "outputs": [],
   "source": [
    "select ship\n",
    "    from outcomes\n",
    "    where battle = 'North Atlantic' and result = 'sunk';\n"
   ]
  },
  {
   "cell_type": "markdown",
   "metadata": {},
   "source": [
    "### 4. За Вашингтонським міжнародним договором від початку 1922 заборонялося будувати лінійні кораблі з водотоннажністю понад 35 тис.тонн. Вкажіть кораблі, які порушили цей договір (враховувати тільки кораблі з відомим роком спуску на воду). Вивести назви кораблів.\n",
    "```\n",
    "```\n",
    "Довідка по темі:\n",
    "* [Використання в запиті декількох джерел записів](http://www.sql-tutorial.ru/ru/book_using_multiple_tables_in_query.html)\n",
    "```\n",
    "```\n",
    "```\n",
    "```\n",
    "```\n",
    "```\n",
    "```\n",
    "Максимальна оцінка: 2 бали\n",
    "Рекомендований час: 6хв\n",
    "```"
   ]
  },
  {
   "cell_type": "code",
   "execution_count": null,
   "metadata": {
    "collapsed": true
   },
   "outputs": [],
   "source": [
    "SELECT s.name\n",
    "FROM ships s join classes c\n",
    "\ton s.class = c.class\n",
    "where s.launched >= 1922 and c.type ='bb' and c.displacement > 35000"
   ]
  },
  {
   "cell_type": "markdown",
   "metadata": {},
   "source": [
    "### 5. Перерахуйте назви головних кораблів, наявних в базі даних (врахувати кораблі в Outcomes).\n",
    "```\n",
    "```\n",
    "Довідка по темі:\n",
    "* [Об'єднання](http://www.sql-tutorial.ru/ru/book_union.html)\n",
    "* [Явні операції з'єднання](http://www.sql-tutorial.ru/ru/book_explicit_join_operations.html)\n",
    "```\n",
    "```\n",
    "```\n",
    "```\n",
    "```\n",
    "```\n",
    "```\n",
    "Максимальна оцінка: 2 бали\n",
    "Рекомендований час: 6хв\n",
    "```"
   ]
  },
  {
   "cell_type": "code",
   "execution_count": null,
   "metadata": {
    "collapsed": true
   },
   "outputs": [],
   "source": [
    "select sh.name\n",
    "   from classes cl\n",
    "   join ships sh\n",
    "     on cl.class = sh.name\n",
    "union\n",
    "select ship\n",
    "   from classes cl\n",
    "   join outcomes out\n",
    "       on cl.class = ship;"
   ]
  },
  {
   "cell_type": "markdown",
   "metadata": {},
   "source": [
    "### 6. Знайдіть класи, в які входить тільки один корабель з бази даних (врахувати також кораблі в Outcomes).\n",
    "```\n",
    "```\n",
    "Довідка по темі:\n",
    "* [Об'єднання](http://www.sql-tutorial.ru/ru/book_union.html)\n",
    "* [Явні операції з'єднання](http://www.sql-tutorial.ru/ru/book_explicit_join_operations.html)\n",
    "* [Конструкція HAVING](http://www.sql-tutorial.ru/ru/book_having_clause.html)\n",
    "\n",
    "```\n",
    "```\n",
    "```\n",
    "```\n",
    "```\n",
    "```\n",
    "```\n",
    "Максимальна оцінка: 2 бали\n",
    "Рекомендований час: 6хв\n",
    "```"
   ]
  },
  {
   "cell_type": "code",
   "execution_count": null,
   "metadata": {
    "collapsed": true
   },
   "outputs": [],
   "source": [
    "select DISTINCT class\n",
    "\tfrom ships s join\n",
    "(select name\n",
    "from (\n",
    "\tselect name from ships\n",
    "\tUNION\n",
    "\t\tselect ship from outcomes\n",
    ") as un\n",
    "GROUP BY name\n",
    "having count(name) = 1) u\n",
    "\t\ton s.name = u.name"
   ]
  },
  {
   "cell_type": "markdown",
   "metadata": {
    "collapsed": true
   },
   "source": [
    "### 7. Знайдіть країни, що мали коли-небудь класи звичайних бойових кораблів ('bb') і класи крейсерів ('bc').\n",
    "```\n",
    "```\n",
    "Довідка по темі:\n",
    "* [Перетин і різниця](http://www.sql-tutorial.ru/ru/book_intersect_except.html)\n",
    "```\n",
    "```\n",
    "```\n",
    "```\n",
    "```\n",
    "```\n",
    "```\n",
    "Максимальна оцінка: 1 бали\n",
    "Рекомендований час: 3хв\n",
    "```"
   ]
  },
  {
   "cell_type": "code",
   "execution_count": null,
   "metadata": {
    "collapsed": true
   },
   "outputs": [],
   "source": [
    "select country\n",
    "   from classes\n",
    "   where type = 'bb'\n",
    "intersect\n",
    "select country\n",
    "   from classes\n",
    "   where type = 'bc';"
   ]
  },
  {
   "cell_type": "markdown",
   "metadata": {},
   "source": [
    "### 8. Знайдіть кораблі, \"збережені для майбутніх битв\"; тобто виведені з ладу в одній битві (damaged), вони брали участь в інший, що сталася пізніше.\n",
    "```\n",
    "```\n",
    "Довідка по темі:\n",
    "* [Явні операції з'єднання](http://www.sql-tutorial.ru/ru/book_explicit_join_operations.html)\n",
    "* [Предикат EXISTS](http://www.sql-tutorial.ru/ru/book_exists_predicate.html)\n",
    "```\n",
    "```\n",
    "```\n",
    "```\n",
    "```\n",
    "```\n",
    "```\n",
    "Максимальна оцінка: 2 бали\n",
    "Рекомендований час: 6хв\n",
    "```"
   ]
  },
  {
   "cell_type": "code",
   "execution_count": null,
   "metadata": {},
   "outputs": [],
   "source": [
    "select ship\n",
    "from outcomes o join ships s\n",
    "\ton o.ship = s.name\n",
    "where  result = 'damaged' and exists\n",
    "(select ship\n",
    "from outcomes\n",
    "where result != 'damaged')"
   ]
  },
  {
   "cell_type": "markdown",
   "metadata": {},
   "source": [
    "### 9. Знайдіть клас, ім'я та країну для кораблів з таблиці Ships, які мають не менше 10 знарядь.\n",
    "```\n",
    "```\n",
    "Довідка по темі:\n",
    "* [Простий оператор SELECT](http://www.sql-tutorial.ru/ru/book_simple_select_statement/page1.html)\n",
    "* [Явні операції з'єднання](http://www.sql-tutorial.ru/ru/book_explicit_join_operations.html)\n",
    "```\n",
    "```\n",
    "```\n",
    "```\n",
    "```\n",
    "```\n",
    "```\n",
    "Максимальна оцінка: 1 бал\n",
    "Рекомендований час: 3хв\n",
    "```"
   ]
  },
  {
   "cell_type": "code",
   "execution_count": null,
   "metadata": {},
   "outputs": [],
   "source": [
    "select sh.class, sh.name, cl.country\n",
    "    from ships sh\n",
    "    join classes cl\n",
    "    on sh.class = cl.class\n",
    "    where numGuns >= 10;\n"
   ]
  },
  {
   "cell_type": "markdown",
   "metadata": {},
   "source": [
    "### 10. Знайдіть назви кораблів, потоплених в битвах, і назви битв, в яких вони були потоплені.\n",
    "```\n",
    "```\n",
    "Довідка по темі:\n",
    "* [Простий оператор SELECT](http://www.sql-tutorial.ru/ru/book_simple_select_statement/page1.html)\n",
    "```\n",
    "```\n",
    "```\n",
    "```\n",
    "```\n",
    "```\n",
    "```\n",
    "Максимальна оцінка: 1 бали\n",
    "Рекомендований час: 3хв\n",
    "```"
   ]
  },
  {
   "cell_type": "code",
   "execution_count": null,
   "metadata": {
    "collapsed": true
   },
   "outputs": [],
   "source": [
    "select o.ship, b.name\n",
    "from outcomes o JOIN battles b on o.battle = b.name\n",
    "where o.result = 'sunk'"
   ]
  },
  {
   "cell_type": "markdown",
   "metadata": {},
   "source": [
    "### 11. Вкажіть битви, які відбулися в роки, що не збігаються ні з одним з років спуску кораблів на воду.\n",
    "```\n",
    "```\n",
    "Довідка по темі:\n",
    "* [Предикат EXISTS](http://www.sql-tutorial.ru/ru/book_exists_predicate.html)\n",
    "* [Предикат NOT IN](http://www.sql-tutorial.ru/ru/book_predicate_not_in.html)\n",
    "* [Використання значения NULL в умовах пошуку](http://www.sql-tutorial.ru/ru/book_using_null_in_search_conditions.html)\n",
    "* [Функція DATEPART](http://www.sql-tutorial.ru/ru/book_datepart_function.html)\n",
    "```\n",
    "```\n",
    "```\n",
    "```\n",
    "```\n",
    "```\n",
    "```\n",
    "Максимальна оцінка: 2 бали\n",
    "Рекомендований час: 6хв\n",
    "```"
   ]
  },
  {
   "cell_type": "code",
   "execution_count": null,
   "metadata": {
    "collapsed": true
   },
   "outputs": [],
   "source": [
    "select *\n",
    "from battles\n",
    "\twhere DATEPART(date, 'yyyy')\n",
    "NOT in (\n",
    "select launched\n",
    "from ships)\n"
   ]
  },
  {
   "cell_type": "markdown",
   "metadata": {},
   "source": [
    "### 12. Знайдіть назви всіх кораблів в базі даних, що починаються з літери R.\n",
    "```\n",
    "```\n",
    "Довідка по темі:\n",
    "* [Об'єднання](http://www.sql-tutorial.ru/ru/book_union.html)\n",
    "* [Предикат LIKE](http://www.sql-tutorial.ru/ru/book_predicate_like.html)\n",
    "```\n",
    "```\n",
    "```\n",
    "```\n",
    "```\n",
    "```\n",
    "```\n",
    "Максимальна оцінка: 1 бал\n",
    "Рекомендований час: 3хв\n",
    "```"
   ]
  },
  {
   "cell_type": "code",
   "execution_count": null,
   "metadata": {
    "collapsed": true
   },
   "outputs": [],
   "source": [
    "select ship\n",
    "from outcomes\n",
    "\twhere ship like 'R%'\n",
    "UNION\n",
    "select name\n",
    "from ships\n",
    "\twhere name like 'R%'\n"
   ]
  },
  {
   "cell_type": "markdown",
   "metadata": {},
   "source": [
    "### 13. Знайдіть назви всіх кораблів в базі даних, що складаються з трьох і більше слів (наприклад, King George V). Вважати, що слова в назвах поділяються одиничними пробілами, і немає кінцевих пробілів.\n",
    "```\n",
    "```\n",
    "Довідка по темі:\n",
    "* [Об'єднання](http://www.sql-tutorial.ru/ru/book_union.html)\n",
    "* [Предикат LIKE](http://www.sql-tutorial.ru/ru/book_predicate_like.html)\n",
    "```\n",
    "```\n",
    "```\n",
    "```\n",
    "```\n",
    "```\n",
    "```\n",
    "Максимальна оцінка: 1 бал\n",
    "Рекомендований час: 3хв\n",
    "```"
   ]
  },
  {
   "cell_type": "code",
   "execution_count": null,
   "metadata": {
    "collapsed": true
   },
   "outputs": [],
   "source": [
    "select name\n",
    "from ships\n",
    "where name LIKE '% % %'\n",
    "union\n",
    "\tselect ship\n",
    "from outcomes\n",
    "where ship LIKE '% % %'"
   ]
  },
  {
   "cell_type": "markdown",
   "metadata": {},
   "source": [
    "### 14. Для кожного корабля, який брав участь в битві при Гуадалканалі (Guadalcanal), вивести назву, водотоннажність і число знарядь.\n",
    "```\n",
    "```\n",
    "Довідка по темі:\n",
    "* [Зовнішні об'єднання](http://www.sql-tutorial.ru/ru/book_explicit_join_operations/page2.html)\n",
    "```\n",
    "```\n",
    "```\n",
    "```\n",
    "```\n",
    "```\n",
    "```\n",
    "Максимальна оцінка: 2 бали\n",
    "Рекомендований час: 6хв\n",
    "```"
   ]
  },
  {
   "cell_type": "code",
   "execution_count": null,
   "metadata": {
    "collapsed": true
   },
   "outputs": [],
   "source": [
    "select s.name, c.displacement, c.numGuns\n",
    "from outcomes o join ships s on o.ship = s.name\n",
    "\t\t\t\t\t\t\t\tjoin classes c on s.class = c.class\n",
    "where o.battle = 'Guadalcanal'"
   ]
  },
  {
   "cell_type": "markdown",
   "metadata": {},
   "source": [
    "### 15. Знайдіть класи кораблів, в яких хоча б один корабель був потоплений в битві.\n",
    "```\n",
    "```\n",
    "Довідка по темі:\n",
    "* [Об'єднання](http://www.sql-tutorial.ru/ru/book_union.html)\n",
    "* [Явні операції з'єднання](http://www.sql-tutorial.ru/ru/book_explicit_join_operations.html)\n",
    "```\n",
    "```\n",
    "```\n",
    "```\n",
    "```\n",
    "```\n",
    "```\n",
    "Максимальна оцінка: 1 бал\n",
    "Рекомендований час: 3хв\n",
    "```"
   ]
  },
  {
   "cell_type": "code",
   "execution_count": null,
   "metadata": {
    "collapsed": true
   },
   "outputs": [],
   "source": [
    "select class\n",
    "    from classes cl\n",
    "    join outcomes out\n",
    "        on cl.class = out.ship\n",
    "    where result = 'sunk';\n"
   ]
  },
  {
   "cell_type": "markdown",
   "metadata": {},
   "source": [
    "### 16. Знайдіть назви кораблів зі знаряддями калібру 16 дюймів (врахувати кораблі з таблиці Outcomes).\n",
    "```\n",
    "```\n",
    "Довідка по темі:\n",
    "* [Об'єднання](http://www.sql-tutorial.ru/ru/book_union.html)\n",
    "* [Явні операції з'єднання](http://www.sql-tutorial.ru/ru/book_explicit_join_operations.html)\n",
    "```\n",
    "```\n",
    "```\n",
    "```\n",
    "```\n",
    "```\n",
    "```\n",
    "Максимальна оцінка: 1 бал\n",
    "Рекомендований час: 3хв\n",
    "```"
   ]
  },
  {
   "cell_type": "code",
   "execution_count": null,
   "metadata": {
    "collapsed": true
   },
   "outputs": [],
   "source": [
    "select s.name\n",
    "from ships s join classes c on s.class = c.class\n",
    "where  c.bore = 16\n",
    "union\n",
    "\tselect o.ship\n",
    "from outcomes o join classes c on o.ship = c.class\n",
    "where  c.bore = 16"
   ]
  },
  {
   "cell_type": "markdown",
   "metadata": {},
   "source": [
    "### 17. Знайдіть назви кораблів, що мають найбільшу кількість знарядь серед всіх наявних кораблів такої ж водотоннажності (врахувати кораблі з таблиці Outcomes).\n",
    "```\n",
    "```\n",
    "Довідка по темі:\n",
    "* [Об'єднання](http://www.sql-tutorial.ru/ru/book_union.html)\n",
    "* [Явні операції з'єднання](http://www.sql-tutorial.ru/ru/book_explicit_join_operations.html)\n",
    "* [Предикати ALL|ANY](http://www.sql-tutorial.ru/ru/book_using_any_all_keywords_with_comparison_predicates.html)\n",
    "```\n",
    "```\n",
    "```\n",
    "```\n",
    "```\n",
    "```\n",
    "```\n",
    "Максимальна оцінка: 3 бали\n",
    "Рекомендований час: 9хв\n",
    "```"
   ]
  },
  {
   "cell_type": "code",
   "execution_count": null,
   "metadata": {
    "collapsed": true
   },
   "outputs": [],
   "source": [
    "select s.name\n",
    "from ships s join classes c on s.name = c.class\n",
    "where c.displacement = ANY\n",
    "(select max(displacement)\n",
    "from classes)\n",
    "\n",
    "UNION\n",
    "\tselect o.ship\n",
    "from outcomes o join classes c on o.ship = c.class\n",
    "where c.displacement = ANY\n",
    "(select max(displacement)\n",
    "from classes)"
   ]
  },
  {
   "cell_type": "markdown",
   "metadata": {},
   "source": [
    "### 18. Визначити назви всіх кораблів з таблиці Ships, які можуть бути лінійним японським кораблем, мають число головних знарядь не менше дев'яти, калібр знарядь менше 19 дюймів і водотоннажність не більше 65 тис.тонн\n",
    "```\n",
    "```\n",
    "Довідка по темі:\n",
    "* [Явні операції з'єднання](http://www.sql-tutorial.ru/ru/book_explicit_join_operations.html)\n",
    "* [Використання значения NULL в умовах пошуку](http://www.sql-tutorial.ru/ru/book_using_null_in_search_conditions.html)\n",
    "* [Оператор CASE](http://www.sql-tutorial.ru/ru/book_case_statement.html)\n",
    "```\n",
    "```\n",
    "```\n",
    "```\n",
    "```\n",
    "```\n",
    "```\n",
    "Максимальна оцінка: 2 бали\n",
    "Рекомендований час: 6хв\n",
    "```"
   ]
  },
  {
   "cell_type": "code",
   "execution_count": null,
   "metadata": {
    "collapsed": true
   },
   "outputs": [],
   "source": [
    "SELECT *\n",
    "from ships s join  classes c on s.class = c.class\n",
    "where type = 'bb' AND country = 'Janan'\n",
    "and numguns >= 9\n",
    "and (bore < 19 or bore = NULL)\n",
    "and (displacement <= 65000 or displacement is null);\n"
   ]
  },
  {
   "cell_type": "markdown",
   "metadata": {},
   "source": [
    "### 19.  Однією з характеристик корабля є половина куба калібру його головних знарядь (mw). З точністю до 2 десяткових знаків визначте середнє значення mw для кораблів кожної країни, кораблі якої є в базі даних.\n",
    "```\n",
    "```\n",
    "Довідка по темі:\n",
    "* [Явні операції з'єднання](http://www.sql-tutorial.ru/ru/book_explicit_join_operations.html)\n",
    "* [Конструкція GROUP BY](http://www.sql-tutorial.ru/ru/book_group_by_clause.html)\n",
    "* [Об'єднання](http://www.sql-tutorial.ru/ru/book_union.html)\n",
    "* [Перейменування стовпців і обчислення в результуючому наборі](http://www.sql-tutorial.ru/ru/book_renaming_columns_calculations_in_result_set.html)\n",
    "* [Перетворення типів](http://www.sql-tutorial.ru/ru/book_type_conversion_and_cast_function/page1.html)\n",
    "```\n",
    "```\n",
    "```\n",
    "```\n",
    "```\n",
    "```\n",
    "```\n",
    "Максимальна оцінка: 3 бали\n",
    "Рекомендований час: 9хв\n",
    "```"
   ]
  },
  {
   "cell_type": "code",
   "execution_count": null,
   "metadata": {
    "collapsed": true
   },
   "outputs": [],
   "source": [
    "SELECT DISTINCT Classes.country, \n",
    " (SELECT AVG( pen.p ) \n",
    " FROM (SELECT (c1.bore*c1.bore*c1.bore)/2 AS p \n",
    " FROM Classes AS c1, Ships AS s1\n",
    " WHERE c1.class = s1.class AND \n",
    " c1.country = Classes.country AND \n",
    " c1.bore IS NOT NULL\n",
    " UNION ALL\n",
    " SELECT (c2.bore*c2.bore*c2.bore)/2 \n",
    " FROM Classes AS c2, Outcomes \n",
    " WHERE c2.country = Classes.country AND \n",
    " c2.class = Outcomes.ship AND \n",
    " c2.bore IS NOT NULL AND \n",
    " Outcomes.ship NOT IN (SELECT ss.name \n",
    " FROM Ships AS ss\n",
    " )\n",
    " ) AS pen \n",
    " WHERE pen.p IS NOT NULL\n",
    " ) AS weight\n",
    "FROM Classes\n",
    "WHERE Classes.country IS NOT NULL;"
   ]
  },
  {
   "cell_type": "markdown",
   "metadata": {},
   "source": [
    "### 20.  Для кожної дати битви (date1) взяти дату наступної в хронологічному порядку битви (date2), а якщо такої дати немає, то поточну дату. Визначити на дату date2 вік людини, яка народилась в дату date1 (число повних років і повних місяців).\n",
    "\n",
    "Зауваження:\n",
    "1. Вважати, що повне число місяців виповнюється в дату дня народження, або раніше, за умови, що більш пізніх дат в шуканому місяці немає;\n",
    "за повний рік приймаються 12 повних місяців; всі битви відбулися в різні дати і до сьогоднішнього дня.\n",
    "2. Дати представити без часу в форматі \"yyyy-mm-dd\", вік в форматі \"Y y., M m.\". Не виводити рік або місяць якщо вони рівні 0, для віку менше 1 міс. виводити порожній рядок.\n",
    "\n",
    "Вивід: вік, date1, date2.\n",
    "```\n",
    "```\n",
    "Довідка по темі:\n",
    "* [Функція IIF](http://www.sql-tutorial.ru/ru/book_case_statement/page4.html)\n",
    "* [OUTER APPLY](http://www.sql-tutorial.ru/ru/book_cross_apply.html)\n",
    "* [Оператор COALESCE](http://www.sql-tutorial.ru/ru/book_case_statement/page2.html)\n",
    "* [Функція NULLIF](http://www.sql-tutorial.ru/ru/book_case_statement/page3.html)\n",
    "```\n",
    "```\n",
    "```\n",
    "```\n",
    "```\n",
    "```\n",
    "```\n",
    "Максимальна оцінка: 5 балів\n",
    "Рекомендований час: 15хв\n",
    "```"
   ]
  },
  {
   "cell_type": "markdown",
   "metadata": {
    "collapsed": true
   },
   "source": [
    "## NoSQL"
   ]
  },
  {
   "cell_type": "markdown",
   "metadata": {},
   "source": [
    "##### Відповідь до кожного завдання у цьому розділі записувати в наступну пусту строку в форматі MongoDB NoSQL запиту. Тобто: \n",
    "```\n",
    "db.[collection_name].[action](query_params, ..).\n",
    "```"
   ]
  },
  {
   "cell_type": "markdown",
   "metadata": {},
   "source": [
    "Структура документу в колекції restaurants:\n",
    "```\n",
    "{\n",
    "  \"address\": {\n",
    "     \"building\": \"1007\",\n",
    "     \"coord\": [ -73.856077, 40.848447 ],\n",
    "     \"street\": \"Morris Park Ave\",\n",
    "     \"zipcode\": \"10462\"\n",
    "  },\n",
    "  \"borough\": \"Bronx\",\n",
    "  \"cuisine\": \"Bakery\",\n",
    "  \"grades\": [\n",
    "     { \"date\": { \"$date\": 1393804800000 }, \"grade\": \"A\", \"score\": 2 },\n",
    "     { \"date\": { \"$date\": 1378857600000 }, \"grade\": \"A\", \"score\": 6 },\n",
    "     { \"date\": { \"$date\": 1358985600000 }, \"grade\": \"A\", \"score\": 10 },\n",
    "     { \"date\": { \"$date\": 1322006400000 }, \"grade\": \"A\", \"score\": 9 },\n",
    "     { \"date\": { \"$date\": 1299715200000 }, \"grade\": \"B\", \"score\": 14 }\n",
    "  ],\n",
    "  \"name\": \"Morris Park Bake Shop\",\n",
    "  \"restaurant_id\": \"30075445\"\n",
    "}\n",
    "```\n",
    "\n",
    "**Дамп: [restaurants.json](https://github.com/dataroot/DRU-DS100-w3/tree/master/tests/3/v1/restaurants.json)**.\n",
    "\n",
    "Приклад:\n",
    "```\n",
    "Питання:\n",
    "Напишіть запит MongoDB, щоб відобразити всі документи в колекції restaurants.\n",
    "```\n",
    "```\n",
    "Відповідь:\n",
    "db.restaurants.find();\n",
    "```"
   ]
  },
  {
   "cell_type": "markdown",
   "metadata": {
    "collapsed": true
   },
   "source": [
    "### 21. Напишіть запит MongoDB, щоб відобразити вcі ресторани, які знаходяться в районі Bronx.\n",
    "```\n",
    "```\n",
    "```\n",
    "```\n",
    "```\n",
    "```\n",
    "```\n",
    "Максимальна оцінка: 1 бал\n",
    "Рекомендований час: 3хв\n",
    "```"
   ]
  },
  {
   "cell_type": "code",
   "execution_count": null,
   "metadata": {
    "collapsed": true
   },
   "outputs": [],
   "source": [
    "db.restaurants.find({\"borough\": \"Bronx\"}).pretty()"
   ]
  },
  {
   "cell_type": "markdown",
   "metadata": {},
   "source": [
    "### 22. Напишіть запит MongoDB, щоб знайти ресторани, у який не \"American\" кухня і досягли пункту \"А\" та не належить до району Brooklyn. Результат повинен відображатися відповідно до кухні у порядку спадання.\n",
    "```\n",
    "```\n",
    "```\n",
    "```\n",
    "```\n",
    "```\n",
    "```\n",
    "Максимальна оцінка: 1 бал\n",
    "Рекомендований час: 3хв\n",
    "```"
   ]
  },
  {
   "cell_type": "code",
   "execution_count": null,
   "metadata": {
    "collapsed": true
   },
   "outputs": [],
   "source": [
    "db.restaurants.find(\n",
    "   {\n",
    "      $and: [\n",
    "         {cuisine: {$ne : \"American\"}},\n",
    "           {cuisine: {$ne : \"American \"}},\n",
    "         {grades.grade: 'A'},\n",
    "            {borough: {$ne : \"Brooklyn\"}}\n",
    "      ]\n",
    "   }\n",
    ").pretty()"
   ]
  },
  {
   "cell_type": "markdown",
   "metadata": {},
   "source": [
    "### 23. Напишіть запит MongoDB, щоб знайти ресторани, які досягли балів, більше 80, але менше 100.\n",
    "```\n",
    "```\n",
    "```\n",
    "```\n",
    "```\n",
    "```\n",
    "```\n",
    "Максимальна оцінка: 1 бал\n",
    "Рекомендований час: 3хв\n",
    "```"
   ]
  },
  {
   "cell_type": "code",
   "execution_count": null,
   "metadata": {
    "collapsed": true
   },
   "outputs": [],
   "source": [
    "db.restaurants.find({$and:[{\"grades.score\" : {$gt:80}}, {\"grades.score\" : {$lt:100}}]}).pretty()"
   ]
  },
  {
   "cell_type": "markdown",
   "metadata": {},
   "source": [
    "### 24. Наведіть приклад корисного aggregate запиту для колекції restaurants та поясніть його.\n",
    "```\n",
    "```\n",
    "```\n",
    "```\n",
    "```\n",
    "```\n",
    "```\n",
    "Максимальна оцінка: 6 балів\n",
    "Рекомендований час: 10хв\n",
    "```"
   ]
  },
  {
   "cell_type": "code",
   "execution_count": null,
   "metadata": {
    "collapsed": true
   },
   "outputs": [],
   "source": [
    "---Мені цікаво скільки ресторанів у кожному районі, тож саме такий запит і будую\n",
    "db.restaurants.aggregate(\n",
    "   [\n",
    "     { $group: { \"_id\": \"$borough\", \"count\": { $sum: 1 } } }\n",
    "   ]\n",
    ");"
   ]
  }
 ],
 "metadata": {
  "kernelspec": {
   "display_name": "Python 3",
   "language": "python",
   "name": "python3"
  },
  "language_info": {
   "codemirror_mode": {
    "name": "ipython",
    "version": 3
   },
   "file_extension": ".py",
   "mimetype": "text/x-python",
   "name": "python",
   "nbconvert_exporter": "python",
   "pygments_lexer": "ipython3",
   "version": "3.6.3"
  }
 },
 "nbformat": 4,
 "nbformat_minor": 2
}
