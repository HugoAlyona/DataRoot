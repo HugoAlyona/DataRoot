{
 "cells": [
  {
   "cell_type": "markdown",
   "metadata": {},
   "source": [
    "# DataRoot University DS100 Test #2 Second Try\n",
    "На проходження тесту виділяється 71 хвилина."
   ]
  },
  {
   "cell_type": "markdown",
   "metadata": {},
   "source": [
    "## Python"
   ]
  },
  {
   "cell_type": "markdown",
   "metadata": {},
   "source": [
    "### 1.  Вирішити задачу:\n",
    "Вірус напав на файлову систему суперкомп'ютера та порушив контроль доступу до файлів. Для кожного файлу є відомий набір операцій, які можуть бути застосовані до нього:\n",
    "```\n",
    "write W\n",
    "read R\n",
    "execute X\n",
    "```\n",
    "У першому рядку міститься число N - кількість файлів, що містяться в файловій системі. Наступні N рядків містять імена файлів і дозволені операції з ними, розділені пробілами. Наступний рядок містить ціле число M - кількість операцій з файлами. У останніх M рядках вказуються операції, які вимагаються вірусом для файлів.\n",
    "\n",
    "Вам потрібно відновити контроль над правами доступу до файлів. Для кожного запиту ваша програма повинна повертати OK, якщо задана операція дійсна, або Access denied, якщо операція недійсна.\n",
    "\n",
    "Вміст файлу(можна працювати, як зі строкою):\n",
    "```\n",
    "4\n",
    "helloworld.exe R X\n",
    "pinglog W R\n",
    "nya R\n",
    "goodluck X W R\n",
    "5\n",
    "read nya\n",
    "write helloworld.exe\n",
    "execute nya\n",
    "read pinglog\n",
    "write pinglog\n",
    "```\n",
    "```\n",
    "```\n",
    "```\n",
    "```\n",
    "```\n",
    "Максимальна оцінка: 4 бали\n",
    "Рекомендований час: 10хв\n",
    "```"
   ]
  },
  {
   "cell_type": "code",
   "execution_count": null,
   "metadata": {},
   "outputs": [],
   "source": []
  },
  {
   "cell_type": "markdown",
   "metadata": {},
   "source": [
    "### 2. Маючи позитивне дійсне число a і невід'ємне ціле число n. Реалізувати функцію ```a^n``` без використання циклів, ** оператора або вбудованої функції math.pow (). Замість цього використовуйте рекурсію.\n",
    "\n",
    "```\n",
    "```\n",
    "```\n",
    "```\n",
    "```\n",
    "```\n",
    "```\n",
    "Максимальна оцінка: 2 бали\n",
    "Рекомендований час: 5хв\n",
    "```"
   ]
  },
  {
   "cell_type": "code",
   "execution_count": 7,
   "metadata": {},
   "outputs": [
    {
     "name": "stdout",
     "output_type": "stream",
     "text": [
      "27\n"
     ]
    }
   ],
   "source": [
    "\n",
    "def power(a,n):\n",
    "    if n == 0:\n",
    "        return 1\n",
    "    elif n>0: return a*power(a,n-1)\n",
    "    else: return 1/a*power(a,n+1)\n",
    "print (power(3,3))"
   ]
  },
  {
   "cell_type": "markdown",
   "metadata": {},
   "source": [
    "### 3. У шахах відомо, що на шаховій дошці 8 × 8 можна розмістити 8 ферзей таким чином, щоб ніхто з них не атакував одне одного. Враховуючи розміщення 8 ферзей на дошці, визначте, чи є пара ферзей, які можуть атакувати одне одного на наступному кроці. Надрукуйте слово NO, якщо жоден ферзь не може атакувати іншого, в іншому випадку надрукуйте YES. Вхід складається з восьми пар координат, по одній парі на рядок,  кожна пара відповідає положенню ферзя на стандартній шаховій дошці з рядками та стовпцями, нумерація яких починається з 1.\n",
    "\n",
    "```\n",
    "```\n",
    "```\n",
    "```\n",
    "```\n",
    "```\n",
    "```\n",
    "Максимальна оцінка: 5 балів\n",
    "Рекомендований час: 15хв\n",
    "```"
   ]
  },
  {
   "cell_type": "code",
   "execution_count": 98,
   "metadata": {},
   "outputs": [
    {
     "name": "stdout",
     "output_type": "stream",
     "text": [
      "I tried....\n"
     ]
    }
   ],
   "source": [
    "print(\"I tried....\")\n",
    "\n",
    "def check_map(map):\n",
    "    for i in range(0, len(map)):\n",
    "        for j in range(i + 1, len(map)):\n",
    "            if map[i][0] == map[j][0] or map[i][1] == map[j][1]:\n",
    "                return 'YES'\n",
    "            else:\n",
    "                x = map[i][0] + 1\n",
    "                y = map[i][1] + 1\n",
    "\n",
    "                while x <= 8 and y <= 8:\n",
    "\n",
    "                    if x == map[j][0] and y == map[j][1]:\n",
    "                        return 'YES'\n",
    "\n",
    "                    x += 1\n",
    "                    y += 1\n",
    "\n",
    "    return 'NO'"
   ]
  },
  {
   "cell_type": "markdown",
   "metadata": {},
   "source": [
    "### 4. Реалізуйте клас Torus, який створюється за двома радіусами r, R, R > r. Містить два методи, які повертають відповідно: площу поверхні та об'єм.\n",
    "\n",
    "```\n",
    "```\n",
    "```\n",
    "```\n",
    "```\n",
    "```\n",
    "```\n",
    "Максимальна оцінка: 2 бали\n",
    "Рекомендований час: 5хв\n",
    "```"
   ]
  },
  {
   "cell_type": "code",
   "execution_count": 17,
   "metadata": {},
   "outputs": [
    {
     "name": "stdout",
     "output_type": "stream",
     "text": [
      "7\n",
      "33\n",
      "volume  31918.300633122984\n",
      "square  9119.514466606566\n"
     ]
    }
   ],
   "source": [
    "from math import pi\n",
    "\n",
    "class Torus:\n",
    "    def __init__(self,r, R):\n",
    "        if R <= r or R <= 0 or r <= 0:\n",
    "            raise Exception('Wrong parameters!')\n",
    "        self.r = r\n",
    "        self.R = R\n",
    "    \n",
    "    def square(self):\n",
    "        s = int(4)*(pi**int(2))*self.r*self.R\n",
    "        return s\n",
    "    \n",
    "    def volume(self):\n",
    "        v = int(2)*(pi**int(2))*self.R*(self.r*self.r)\n",
    "        return v\n",
    "    \n",
    "first = Torus(7, 33)\n",
    "print(first.r)\n",
    "print(first.R)\n",
    "\n",
    "print(\"volume \",first.volume())\n",
    "print(\"square \",first.square())"
   ]
  },
  {
   "cell_type": "markdown",
   "metadata": {},
   "source": [
    "### 5.  Продемонструйте реалізацію декоратора з параметром.\n",
    "\n",
    "```\n",
    "```\n",
    "```\n",
    "```\n",
    "```\n",
    "```\n",
    "```\n",
    "Максимальна оцінка: 2 бали\n",
    "Рекомендований час: 5хв\n",
    "```"
   ]
  },
  {
   "cell_type": "code",
   "execution_count": 20,
   "metadata": {},
   "outputs": [
    {
     "name": "stdout",
     "output_type": "stream",
     "text": [
      "['test', '1,2,3', [1, 2]]\n",
      "\n",
      "['test', '1,2,3', [1, 2]]\n"
     ]
    }
   ],
   "source": [
    " def decorator(arg1, arg2):\n",
    "    def helper(function):\n",
    "        def wrapper(*args, **arg2):\n",
    "            print (*args)\n",
    "            print(**arg2)\n",
    "            function(*args, **arg2)\n",
    "        return wrapper\n",
    "    return helper\n",
    "\n",
    "\n",
    "@decorator(\"arg1\", \"arg2\")\n",
    "def print_args(*args):\n",
    "    for arg in args:\n",
    "        print (arg)\n",
    "        \n",
    "print_args([\"test\", \"1,2,3\", [1,2]])"
   ]
  },
  {
   "cell_type": "markdown",
   "metadata": {
    "collapsed": true
   },
   "source": [
    "## Libraries: numpy, scipy, pandas, matplotlib"
   ]
  },
  {
   "cell_type": "markdown",
   "metadata": {},
   "source": [
    "### Numpy"
   ]
  },
  {
   "cell_type": "markdown",
   "metadata": {
    "collapsed": true
   },
   "source": [
    "### 6. Cкажімо, є два випадкові масиви A та B. Перевірте, чи вони однакові.\n",
    "```\n",
    "```\n",
    "```\n",
    "```\n",
    "```\n",
    "```\n",
    "```\n",
    "Максимальна оцінка: 2 бали\n",
    "Рекомендований час: 3хв\n",
    "```"
   ]
  },
  {
   "cell_type": "code",
   "execution_count": 24,
   "metadata": {},
   "outputs": [
    {
     "name": "stdout",
     "output_type": "stream",
     "text": [
      "True\n",
      "False\n"
     ]
    }
   ],
   "source": [
    "import numpy as np\n",
    "A = np.array([1, 2])\n",
    "B = np.array([1, 2])\n",
    "C = np.array([1, 3]) \n",
    "print(np.array_equal(A, B))\n",
    "print(np.array_equal(A, C))"
   ]
  },
  {
   "cell_type": "markdown",
   "metadata": {},
   "source": [
    "### 7. Поверніть з 2-вимірного масиву лінійно незалежні рядки.\n",
    "```\n",
    "```\n",
    "```\n",
    "```\n",
    "```\n",
    "```\n",
    "```\n",
    "Максимальна оцінка: 3 бали\n",
    "Рекомендований час: 6хв\n",
    "```"
   ]
  },
  {
   "cell_type": "code",
   "execution_count": 53,
   "metadata": {},
   "outputs": [
    {
     "name": "stdout",
     "output_type": "stream",
     "text": [
      "[[0 1 0 0]\n",
      " [0 0 1 0]\n",
      " [1 0 0 1]]\n"
     ]
    }
   ],
   "source": [
    "import numpy as np\n",
    "\n",
    "matrix = np.array(\n",
    "    [\n",
    "        [0, 1 ,0 ,0],\n",
    "        [0, 0, 1, 0],\n",
    "        [0, 1, 1, 0],\n",
    "        [1, 0, 0, 1]\n",
    "    ])\n",
    "\n",
    "lambdas, V =  np.linalg.eig(matrix.T)\n",
    "print (matrix[lambdas != 0,:])"
   ]
  },
  {
   "cell_type": "markdown",
   "metadata": {},
   "source": [
    "### 8. Знайдіть найближче значення до заданого значення в масиві.\n",
    "```\n",
    "```\n",
    "```\n",
    "```\n",
    "```\n",
    "```\n",
    "```\n",
    "Максимальна оцінка: 2 бали\n",
    "Рекомендований час: 3хв\n",
    "```"
   ]
  },
  {
   "cell_type": "code",
   "execution_count": 29,
   "metadata": {},
   "outputs": [
    {
     "name": "stdout",
     "output_type": "stream",
     "text": [
      "[ 0.89238948  0.86677552  0.72350191  0.48773505  0.59112706  0.71844431\n",
      "  0.11278933  0.75219964  0.81440795  0.32426559]\n",
      "0.487735053215\n"
     ]
    }
   ],
   "source": [
    "\n",
    "import numpy as np\n",
    "def find_closest(array,value):\n",
    "    idx = (np.abs(array-value)).argmin()\n",
    "    return array[idx]\n",
    "\n",
    "array = np.random.random(10)\n",
    "print(array)\n",
    "value = 0.5\n",
    "\n",
    "print(find_closest(array, value))\n"
   ]
  },
  {
   "cell_type": "markdown",
   "metadata": {},
   "source": [
    "### Pandas"
   ]
  },
  {
   "cell_type": "markdown",
   "metadata": {},
   "source": [
    "### 9. Скажімо, є DataFrame df з 10 стовпчиком дійсних чисел. Наприклад:"
   ]
  },
  {
   "cell_type": "code",
   "execution_count": 86,
   "metadata": {},
   "outputs": [
    {
     "name": "stdout",
     "output_type": "stream",
     "text": [
      "          a         b         c         d         e         f         g  \\\n",
      "0  0.119103  0.004523  0.059869  0.779652  0.498088  0.559116  0.032574   \n",
      "1  0.085983  0.086568  0.496564  0.599369  0.950906  0.935733  0.622467   \n",
      "2  0.887330  0.705233  0.711849  0.901584  0.444193  0.622024  0.170852   \n",
      "3  0.743324  0.049567  0.052097  0.685130  0.485165  0.494822  0.744628   \n",
      "4  0.649759  0.428269  0.513833  0.570461  0.690405  0.605481  0.205185   \n",
      "\n",
      "          h         i         j  \n",
      "0  0.075864  0.379945  0.763821  \n",
      "1  0.002991  0.041626  0.014027  \n",
      "2  0.047936  0.983180  0.512735  \n",
      "3  0.173560  0.499764  0.227727  \n",
      "4  0.751091  0.663840  0.991762  \n"
     ]
    }
   ],
   "source": [
    "import numpy as np\n",
    "import pandas as pd\n",
    "\n",
    "df = pd.DataFrame(np.random.random(size=(5, 10)), columns=list('abcdefghij'))\n",
    "print(df)"
   ]
  },
  {
   "cell_type": "markdown",
   "metadata": {},
   "source": [
    "Яка колонка чисел має найменшу суму?\n",
    "```\n",
    "```\n",
    "```\n",
    "```\n",
    "```\n",
    "```\n",
    "```\n",
    "Максимальна оцінка: 2 бали\n",
    "Рекомендований час: 3хв\n",
    "```"
   ]
  },
  {
   "cell_type": "code",
   "execution_count": 90,
   "metadata": {},
   "outputs": [
    {
     "data": {
      "text/plain": [
       "'h'"
      ]
     },
     "execution_count": 90,
     "metadata": {},
     "output_type": "execute_result"
    }
   ],
   "source": [
    "df.sum(axis=0).argmin()"
   ]
  },
  {
   "cell_type": "markdown",
   "metadata": {},
   "source": [
    "### 10. Скажімо, є DataFrame з двома стовпчиками цілих чисел 'A' та 'B'. Значення в 'A' знаходяться між 1 та 100 включно. Для кожної групи з десяти послідовних чисел в 'A' (тобто (0, 10], (10, 20], ...), розрахуйте суму відповідних значень в 'B'.\n",
    "```\n",
    "```\n",
    "```\n",
    "```\n",
    "```\n",
    "```\n",
    "```\n",
    "Максимальна оцінка: 3 бали\n",
    "Рекомендований час: 5хв\n",
    "```"
   ]
  },
  {
   "cell_type": "code",
   "execution_count": 75,
   "metadata": {},
   "outputs": [
    {
     "name": "stdout",
     "output_type": "stream",
     "text": [
      "      A    B\n",
      "13    3    3\n",
      "4     5   45\n",
      "3    11    1\n",
      "0    12   12\n",
      "5    14   14\n",
      "6    14    4\n",
      "11   21   21\n",
      "9    23   23\n",
      "10   25  235\n",
      "2    31    3\n",
      "8    55   54\n",
      "12   57   57\n",
      "7    62   52\n",
      "14   87   87\n",
      "1   100  345\n",
      "A\n",
      "(0, 10]       48.0\n",
      "(10, 20]      31.0\n",
      "(20, 30]     279.0\n",
      "(30, 40]       3.0\n",
      "(40, 50]       NaN\n",
      "(50, 60]     111.0\n",
      "(60, 70]      52.0\n",
      "(70, 80]       NaN\n",
      "(80, 90]      87.0\n",
      "(90, 100]    345.0\n",
      "Name: B, dtype: float64\n"
     ]
    }
   ],
   "source": [
    "import numpy as np\n",
    "df = pd.DataFrame({'A': [12,100,31,11,5,14,14,62,55,23,25,21,57,3,87], \n",
    "                   'B': [12,345,3,1,45,14,4,52,54,23,235,21,57,3,87]})\n",
    "\n",
    "df = df.sort_values(['A'],ascending=True)\n",
    "print(df)\n",
    "df = df.groupby(pd.cut(df[\"A\"], np.arange(0, 100+10, 10))).sum()\n",
    "\n",
    "print (df['B'])"
   ]
  },
  {
   "cell_type": "markdown",
   "metadata": {},
   "source": [
    "### 11. Є DataFrame df зі стовпцями: групи - \"grps\" та значення - \"vals\":"
   ]
  },
  {
   "cell_type": "code",
   "execution_count": 46,
   "metadata": {},
   "outputs": [],
   "source": [
    "df = pd.DataFrame({'grps': list('aaabbcaabcccbbc'), \n",
    "                   'vals': [12,345,3,1,45,14,4,52,54,23,235,21,57,3,87]})"
   ]
  },
  {
   "cell_type": "markdown",
   "metadata": {
    "collapsed": true
   },
   "source": [
    "Для кожної групи знайдіть суму трьох найбільших значень.\n",
    "```\n",
    "```\n",
    "```\n",
    "```\n",
    "```\n",
    "```\n",
    "```\n",
    "Максимальна оцінка: 2 бали\n",
    "Рекомендований час: 3хв\n",
    "```"
   ]
  },
  {
   "cell_type": "code",
   "execution_count": 48,
   "metadata": {},
   "outputs": [
    {
     "name": "stdout",
     "output_type": "stream",
     "text": [
      "   grps  vals\n",
      "10    c   235\n",
      "14    c    87\n",
      "9     c    23\n",
      "12    b    57\n",
      "8     b    54\n",
      "4     b    45\n",
      "1     a   345\n",
      "7     a    52\n",
      "0     a    12\n",
      "   grps  vals\n",
      "10    c   235\n",
      "14    c    87\n",
      "9     c    23\n",
      "12    b    57\n",
      "8     b    54\n",
      "4     b    45\n",
      "1     a   345\n",
      "7     a    52\n",
      "0     a    12\n"
     ]
    },
    {
     "data": {
      "text/html": [
       "<div>\n",
       "<style>\n",
       "    .dataframe thead tr:only-child th {\n",
       "        text-align: right;\n",
       "    }\n",
       "\n",
       "    .dataframe thead th {\n",
       "        text-align: left;\n",
       "    }\n",
       "\n",
       "    .dataframe tbody tr th {\n",
       "        vertical-align: top;\n",
       "    }\n",
       "</style>\n",
       "<table border=\"1\" class=\"dataframe\">\n",
       "  <thead>\n",
       "    <tr style=\"text-align: right;\">\n",
       "      <th></th>\n",
       "      <th>vals</th>\n",
       "    </tr>\n",
       "    <tr>\n",
       "      <th>grps</th>\n",
       "      <th></th>\n",
       "    </tr>\n",
       "  </thead>\n",
       "  <tbody>\n",
       "    <tr>\n",
       "      <th>a</th>\n",
       "      <td>409</td>\n",
       "    </tr>\n",
       "    <tr>\n",
       "      <th>b</th>\n",
       "      <td>156</td>\n",
       "    </tr>\n",
       "    <tr>\n",
       "      <th>c</th>\n",
       "      <td>345</td>\n",
       "    </tr>\n",
       "  </tbody>\n",
       "</table>\n",
       "</div>"
      ],
      "text/plain": [
       "      vals\n",
       "grps      \n",
       "a      409\n",
       "b      156\n",
       "c      345"
      ]
     },
     "execution_count": 48,
     "metadata": {},
     "output_type": "execute_result"
    }
   ],
   "source": [
    "print (df)\n",
    "df = df.sort_values(['grps','vals'],ascending=False).groupby('grps').head(3)\n",
    "print (df)\n",
    "grouped = df.groupby('grps')\n",
    "grouped.sum()"
   ]
  },
  {
   "cell_type": "markdown",
   "metadata": {},
   "source": [
    "## Scipy & Matplotlib"
   ]
  },
  {
   "cell_type": "markdown",
   "metadata": {},
   "source": [
    "### 12. За допомогою scipy згенерувати та за допомогою matplotlib побудувати вибірки, правильно підписавши осі та назвавши графік з обраними відповідними параметрами(завдання на повторення):"
   ]
  },
  {
   "cell_type": "markdown",
   "metadata": {},
   "source": [
    "#### 12.1. Виібрку з нормально розподіленої випадкової величини:\n",
    "```\n",
    "```\n",
    "```\n",
    "```\n",
    "```\n",
    "```\n",
    "```\n",
    "Максимальна оцінка: 2 бали\n",
    "Рекомендований час: 2хв\n",
    "```"
   ]
  },
  {
   "cell_type": "code",
   "execution_count": 34,
   "metadata": {},
   "outputs": [
    {
     "data": {
      "text/plain": [
       "Text(0.5,1,'Normal distribution')"
      ]
     },
     "execution_count": 34,
     "metadata": {},
     "output_type": "execute_result"
    },
    {
     "data": {
      "image/png": "[encoded data removed]",
      "text/plain": [
       "<matplotlib.figure.Figure at 0xc341e10>"
      ]
     },
     "metadata": {},
     "output_type": "display_data"
    }
   ],
   "source": [
    "import numpy as np\n",
    "import matplotlib.pyplot as plt\n",
    "import scipy.stats as sts\n",
    "% matplotlib inline\n",
    "\n",
    "norm = sts.norm(1,0.5)\n",
    "x = np.linspace(0,10,100)\n",
    "cdf = norm.cdf(x)\n",
    "plt.plot(x, cdf)\n",
    "plt.ylabel('f(x| m, o**2)')\n",
    "plt.xlabel('x')\n",
    "plt.title('Normal distribution')"
   ]
  },
  {
   "cell_type": "markdown",
   "metadata": {},
   "source": [
    "#### 12.2. Вибірку з розподілу Бернулі:\n",
    "```\n",
    "```\n",
    "```\n",
    "```\n",
    "```\n",
    "```\n",
    "```\n",
    "Максимальна оцінка: 2 бали\n",
    "Рекомендований час: 2хв\n",
    "```"
   ]
  },
  {
   "cell_type": "code",
   "execution_count": 36,
   "metadata": {},
   "outputs": [
    {
     "data": {
      "text/plain": [
       "Text(0.5,1,'Bernoulli distribution')"
      ]
     },
     "execution_count": 36,
     "metadata": {},
     "output_type": "execute_result"
    },
    {
     "data": {
      "image/png": "[encoded data removed]",
      "text/plain": [
       "<matplotlib.figure.Figure at 0xc40cc18>"
      ]
     },
     "metadata": {},
     "output_type": "display_data"
    }
   ],
   "source": [
    "bernoulli = sts.bernoulli(1)\n",
    "x = np.linspace(0,2,100)\n",
    "cdf = bernoulli.cdf(x)\n",
    "plt.plot(x, cdf)\n",
    "plt.ylabel('Probability')\n",
    "plt.xlabel('Scenarious')\n",
    "plt.title('Bernoulli distribution')"
   ]
  },
  {
   "cell_type": "markdown",
   "metadata": {},
   "source": [
    "#### 12.3. Вибірку з біноміального розподілу:\n",
    "```\n",
    "```\n",
    "```\n",
    "```\n",
    "```\n",
    "```\n",
    "```\n",
    "Максимальна оцінка: 2 бали\n",
    "Рекомендований час: 2хв\n",
    "```"
   ]
  },
  {
   "cell_type": "code",
   "execution_count": 38,
   "metadata": {},
   "outputs": [
    {
     "data": {
      "text/plain": [
       "Text(0.5,1,'Binomial distribution')"
      ]
     },
     "execution_count": 38,
     "metadata": {},
     "output_type": "execute_result"
    },
    {
     "data": {
      "image/png": "[encoded data removed]",
      "text/plain": [
       "<matplotlib.figure.Figure at 0xc4daac8>"
      ]
     },
     "metadata": {},
     "output_type": "display_data"
    }
   ],
   "source": [
    "binomial = sts.binom(10, 0.1)\n",
    "\n",
    "x = np.linspace(0,20,1000)\n",
    "cdf = binomial.cdf(x)\n",
    "plt.step(x, cdf)\n",
    "\n",
    "plt.ylabel('P(x = k)')\n",
    "plt.xlabel('x')\n",
    "plt.title('Binomial distribution')"
   ]
  },
  {
   "cell_type": "markdown",
   "metadata": {
    "collapsed": true
   },
   "source": [
    "#### 12.4. Вибірку з розподілу Пуассона:\n",
    "```\n",
    "```\n",
    "```\n",
    "```\n",
    "```\n",
    "```\n",
    "```\n",
    "Максимальна оцінка: 2 бали\n",
    "Рекомендований час: 2хв\n",
    "```"
   ]
  },
  {
   "cell_type": "code",
   "execution_count": 39,
   "metadata": {},
   "outputs": [
    {
     "data": {
      "image/png": "[encoded data removed]",
      "text/plain": [
       "<matplotlib.figure.Figure at 0xc5425c0>"
      ]
     },
     "metadata": {},
     "output_type": "display_data"
    }
   ],
   "source": [
    "rv = sts.poisson(5)\n",
    "\n",
    "x = np.linspace(0,20,1000)\n",
    "cdf = rv.cdf(x)\n",
    "plt.step(x, cdf)\n",
    "plt.title(\"Poisson distribution\")\n",
    "\n",
    "plt.ylabel('P(x = k)')\n",
    "plt.xlabel('x')\n",
    "plt.show()"
   ]
  },
  {
   "cell_type": "code",
   "execution_count": null,
   "metadata": {
    "collapsed": true
   },
   "outputs": [],
   "source": []
  },
  {
   "cell_type": "code",
   "execution_count": null,
   "metadata": {
    "collapsed": true
   },
   "outputs": [],
   "source": []
  }
 ],
 "metadata": {
  "kernelspec": {
   "display_name": "Python 3",
   "language": "python",
   "name": "python3"
  }
 },
 "nbformat": 4,
 "nbformat_minor": 2
}
