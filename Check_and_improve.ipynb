{
 "cells": [
  {
   "cell_type": "markdown",
   "metadata": {},
   "source": [
    "## SVM Checker"
   ]
  },
  {
   "cell_type": "code",
   "execution_count": 48,
   "metadata": {},
   "outputs": [],
   "source": [
    "%matplotlib inline\n",
    "\n",
    "import svm\n",
    "import numpy as np\n",
    "import matplotlib.pyplot as plt\n",
    "import matplotlib.cm as cm\n",
    "import matplotlib\n",
    "import itertools\n",
    "\n",
    "\n",
    "\n",
    "\n",
    "def example(num_samples=10, num_features=2, grid_size=20, kernelType = 'linear'):\n",
    "    \n",
    "    samples = np.matrix(np.random.normal(size=num_samples * num_features)\n",
    "                        .reshape(num_samples, num_features))\n",
    "    \n",
    "    labels = 2 * (samples.sum(axis=1) > 0) - 1.0\n",
    "    \n",
    "    trainer = {\n",
    "        'linear': svm.SVMTrainer(svm.Kernel.linear()),\n",
    "        'gaussian': svm.SVMTrainer(svm.Kernel.gaussian(1.0)),\n",
    "        'polynomial': svm.SVMTrainer(svm.Kernel.polynomial(1.0))\n",
    "    }[kernelType]\n",
    "    \n",
    "    predictor = trainer.train(samples, labels)\n",
    "\n",
    "    plot(predictor, samples, labels, grid_size)\n",
    "\n",
    "\n",
    "def plot(predictor, X, y, grid_size):\n",
    "    \n",
    "    x_min, x_max = X[:, 0].min() - 1, X[:, 0].max() + 1\n",
    "    y_min, y_max = X[:, 1].min() - 1, X[:, 1].max() + 1\n",
    "    \n",
    "    xx, yy = np.meshgrid(\n",
    "        np.linspace(x_min, x_max, grid_size),\n",
    "        np.linspace(y_min, y_max, grid_size),\n",
    "        indexing='ij'\n",
    "    )\n",
    "    \n",
    "    flatten = lambda m: np.array(m).reshape(-1,)\n",
    "\n",
    "    result = []\n",
    "    \n",
    "    for (i, j) in itertools.product(range(grid_size), range(grid_size)):\n",
    "        point = np.array([xx[i, j], yy[i, j]]).reshape(1, 2)\n",
    "        result.append(predictor.predict(point))\n",
    "    Z = np.array(result).reshape(xx.shape)\n",
    "    plt.contourf(\n",
    "        xx, yy, Z,\n",
    "        cmap=cm.Paired,\n",
    "        levels=[-0.01, 0.01],\n",
    "        extend='both',\n",
    "        alpha=0.8\n",
    "    )\n",
    "    \n",
    "    \n",
    "    plt.scatter(\n",
    "        flatten(X[:, 0]),\n",
    "        flatten(X[:, 1]),\n",
    "        c=flatten(y),\n",
    "        cmap=cm.Paired\n",
    "    )\n",
    "    \n",
    "    plt.xlim(x_min, x_max)\n",
    "    plt.ylim(y_min, y_max)"
   ]
  },
  {
   "cell_type": "code",
   "execution_count": 49,
   "metadata": {},
   "outputs": [
    {
     "name": "stdout",
     "output_type": "stream",
     "text": [
      "[[ 0.4765155   0.99397748]\n",
      " [-0.48790616  0.64453052]\n",
      " [-1.30571074 -1.81831638]\n",
      " [-0.37825763  0.1938698 ]\n",
      " [ 1.195369    0.93273898]\n",
      " [-0.1339543   1.3145049 ]\n",
      " [-0.70569293 -1.17417091]\n",
      " [ 0.51659644 -0.32933007]\n",
      " [-0.41721731 -0.48851354]\n",
      " [-0.16102439  0.1171977 ]]\n",
      "     pcost       dcost       gap    pres   dres\n",
      " 0: -4.5425e+00 -9.8619e+00  3e+01  4e+00  2e+00\n",
      " 1: -1.4883e+01 -1.7731e+01  1e+01  2e+00  1e+00\n",
      " 2: -7.4473e+01 -7.4946e+01  2e+01  2e+00  9e-01\n",
      " 3: -8.3382e+01 -9.3249e+01  3e+01  1e+00  6e-01\n",
      " 4: -8.8110e+01 -9.9583e+01  2e+01  4e-01  2e-01\n",
      " 5: -8.7657e+01 -8.8093e+01  8e-01  1e-02  5e-03\n",
      " 6: -8.7626e+01 -8.7630e+01  8e-03  1e-04  5e-05\n",
      " 7: -8.7625e+01 -8.7625e+01  8e-05  1e-06  5e-07\n",
      " 8: -8.7625e+01 -8.7625e+01  8e-07  1e-08  5e-09\n",
      "Optimal solution found.\n"
     ]
    },
    {
     "data": {
      "image/png": "[encoded data removed]",
      "text/plain": [
       "<matplotlib.figure.Figure at 0x6e80a58>"
      ]
     },
     "metadata": {},
     "output_type": "display_data"
    }
   ],
   "source": [
    "example()"
   ]
  },
  {
   "cell_type": "code",
   "execution_count": null,
   "metadata": {},
   "outputs": [],
   "source": []
  },
  {
   "cell_type": "code",
   "execution_count": null,
   "metadata": {},
   "outputs": [],
   "source": []
  },
  {
   "cell_type": "code",
   "execution_count": null,
   "metadata": {},
   "outputs": [],
   "source": [
    "\n"
   ]
  },
  {
   "cell_type": "code",
   "execution_count": null,
   "metadata": {},
   "outputs": [],
   "source": []
  },
  {
   "cell_type": "code",
   "execution_count": null,
   "metadata": {},
   "outputs": [],
   "source": [
    "\n"
   ]
  },
  {
   "cell_type": "code",
   "execution_count": null,
   "metadata": {
    "collapsed": true
   },
   "outputs": [],
   "source": []
  },
  {
   "cell_type": "code",
   "execution_count": null,
   "metadata": {
    "collapsed": true
   },
   "outputs": [],
   "source": []
  }
 ],
 "metadata": {
  "kernelspec": {
   "display_name": "py34",
   "language": "python",
   "name": "py34"
  },
  "language_info": {
   "codemirror_mode": {
    "name": "ipython",
    "version": 3
   },
   "file_extension": ".py",
   "mimetype": "text/x-python",
   "name": "python",
   "nbconvert_exporter": "python",
   "pygments_lexer": "ipython3",
   "version": "3.4.5"
  }
 },
 "nbformat": 4,
 "nbformat_minor": 2
}
